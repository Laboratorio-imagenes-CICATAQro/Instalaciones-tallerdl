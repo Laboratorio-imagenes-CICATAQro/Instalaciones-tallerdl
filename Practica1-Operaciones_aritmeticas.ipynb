{
 "cells": [
  {
   "cell_type": "code",
   "execution_count": 1,
   "metadata": {},
   "outputs": [
    {
     "name": "stdout",
     "output_type": "stream",
     "text": [
      "a= 1.03 b= 503 c= 4\n"
     ]
    }
   ],
   "source": [
    "## Variables de entrada\n",
    "a= 1.03\n",
    "b=503\n",
    "c= 2** 2\n",
    "print(\"a= \"+str(a)+\" b= \"+str(b)+\" c= \"+str(c))"
   ]
  },
  {
   "cell_type": "code",
   "execution_count": 2,
   "metadata": {},
   "outputs": [
    {
     "name": "stdout",
     "output_type": "stream",
     "text": [
      "d= 504.03 e= 5.03 f= 6.059999999999945\n"
     ]
    }
   ],
   "source": [
    "## Suma \n",
    "d= a+b\n",
    "e= a+c\n",
    "f= d+e-b\n",
    "print(\"d= \"+str(d)+\" e= \"+str(e)+\" f= \"+str(f))"
   ]
  },
  {
   "cell_type": "code",
   "execution_count": 3,
   "metadata": {},
   "outputs": [
    {
     "name": "stdout",
     "output_type": "stream",
     "text": [
      "ab= 518.09 bc= 2012 g= -6.241799999999944 h= 5.883495145631015\n"
     ]
    }
   ],
   "source": [
    "## Multiplicación \n",
    "ab= a*b\n",
    "bc= b*c\n",
    "g= f*(-a)\n",
    "h= f/a\n",
    "print(\"ab= \"+str(ab)+\" bc= \"+str(bc)+\" g= \"+str(g)+\" h= \"+str(h))"
   ]
  },
  {
   "cell_type": "code",
   "execution_count": 4,
   "metadata": {},
   "outputs": [
    {
     "ename": "SyntaxError",
     "evalue": "invalid syntax (<ipython-input-4-7006905439eb>, line 2)",
     "output_type": "error",
     "traceback": [
      "\u001b[1;36m  File \u001b[1;32m\"<ipython-input-4-7006905439eb>\"\u001b[1;36m, line \u001b[1;32m2\u001b[0m\n\u001b[1;33m    conda install -c anaconda numpy\u001b[0m\n\u001b[1;37m                ^\u001b[0m\n\u001b[1;31mSyntaxError\u001b[0m\u001b[1;31m:\u001b[0m invalid syntax\n"
     ]
    }
   ],
   "source": [
    "## Operaciones con vectores y matrices\n",
    "#conda install -c anaconda numpy "
   ]
  },
  {
   "cell_type": "code",
   "execution_count": 5,
   "metadata": {},
   "outputs": [],
   "source": [
    "import numpy as np\n",
    "\n",
    "A= [0,1,2,3,4,5]\n",
    "B= np.zeros(6)\n",
    "C= np.ones(6)\n",
    "D= np.matrix([[0,1,2,3,4,5],[6,7,8,9,10,11]])\n",
    "E= [[1,0],[0,1]]"
   ]
  },
  {
   "cell_type": "code",
   "execution_count": 9,
   "metadata": {},
   "outputs": [
    {
     "name": "stdout",
     "output_type": "stream",
     "text": [
      "A= [0, 1, 2, 3, 4, 5] B= [0. 0. 0. 0. 0. 0.] C= [1. 1. 1. 1. 1. 1.] D= [[ 0  1  2  3  4  5]\n",
      " [ 6  7  8  9 10 11]]\n",
      "E= [[1, 0], [0, 1]] F= 2.0 G= 21.0\n"
     ]
    }
   ],
   "source": [
    "# Suma\n",
    "F= np.sum([0.5, 1.5])\n",
    "G= np.sum([A,C])\n",
    "print(\"A= \"+str(A)+\" B= \"+str(B)+\" C= \"+str(C)+\" D= \"+str(D))\n",
    "print(\"E= \"+str(E)+\" F= \"+str(F)+\" G= \"+str(G))"
   ]
  },
  {
   "cell_type": "code",
   "execution_count": 10,
   "metadata": {},
   "outputs": [
    {
     "name": "stdout",
     "output_type": "stream",
     "text": [
      "[[0. 1. 2.]\n",
      " [3. 4. 5.]\n",
      " [6. 7. 8.]]\n",
      "[0. 1. 2.]\n"
     ]
    },
    {
     "data": {
      "text/plain": [
       "array([[ 0.,  1.,  4.],\n",
       "       [ 0.,  4., 10.],\n",
       "       [ 0.,  7., 16.]])"
      ]
     },
     "execution_count": 10,
     "metadata": {},
     "output_type": "execute_result"
    }
   ],
   "source": [
    "# Multiplicación\n",
    "x1 = np.arange(9.0).reshape((3, 3))\n",
    "print(x1)\n",
    "x2 = np.arange(3.0)\n",
    "print(x2)\n",
    "np.multiply(x1, x2)"
   ]
  },
  {
   "cell_type": "code",
   "execution_count": 8,
   "metadata": {},
   "outputs": [],
   "source": [
    "# Producto punto\n",
    "H = np.eye(2)\n",
    "I = np.ones((2, 2)) * 2\n",
    "J= H.dot(I)"
   ]
  },
  {
   "cell_type": "code",
   "execution_count": null,
   "metadata": {},
   "outputs": [],
   "source": []
  }
 ],
 "metadata": {
  "kernelspec": {
   "display_name": "Python 3",
   "language": "python",
   "name": "python3"
  },
  "language_info": {
   "codemirror_mode": {
    "name": "ipython",
    "version": 3
   },
   "file_extension": ".py",
   "mimetype": "text/x-python",
   "name": "python",
   "nbconvert_exporter": "python",
   "pygments_lexer": "ipython3",
   "version": "3.6.5"
  }
 },
 "nbformat": 4,
 "nbformat_minor": 2
}
