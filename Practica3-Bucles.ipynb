{
 "cells": [
  {
   "cell_type": "code",
   "execution_count": 1,
   "metadata": {},
   "outputs": [
    {
     "name": "stdout",
     "output_type": "stream",
     "text": [
      "We're on time 0\n",
      "We're on time 1\n",
      "We're on time 2\n"
     ]
    }
   ],
   "source": [
    "## Definir bucle de una variable\n",
    "\n",
    "for x in range(3): #In range 3= [0,1,2]\n",
    "    print (\"We're on time %d\" % (x))\n",
    "    "
   ]
  },
  {
   "cell_type": "code",
   "execution_count": 2,
   "metadata": {},
   "outputs": [
    {
     "name": "stdout",
     "output_type": "stream",
     "text": [
      "Hora: 0, Min: 0, Seg: 0\n",
      "Hora: 0, Min: 1, Seg: 1\n",
      "Hora: 0, Min: 2, Seg: 2\n",
      "Hora: 0, Min: 3, Seg: 3\n",
      "Hora: 1, Min: 0, Seg: 1\n",
      "Hora: 1, Min: 1, Seg: 2\n",
      "Hora: 1, Min: 2, Seg: 3\n",
      "Hora: 1, Min: 3, Seg: 4\n",
      "Hora: 2, Min: 0, Seg: 2\n",
      "Hora: 2, Min: 1, Seg: 3\n",
      "Hora: 2, Min: 2, Seg: 4\n",
      "Hora: 2, Min: 3, Seg: 5\n"
     ]
    }
   ],
   "source": [
    "## Definir bucle de tres variables\n",
    "\n",
    "for x in range(3): #In range 3= [0,1,2]\n",
    "    for y in range(4):\n",
    "        z=x+y\n",
    "        print (\"Hora: %d\" % (x) + \", Min: %d\" % (y) + \", Seg: %d\" % (z))"
   ]
  },
  {
   "cell_type": "code",
   "execution_count": null,
   "metadata": {},
   "outputs": [],
   "source": []
  }
 ],
 "metadata": {
  "kernelspec": {
   "display_name": "Python 3",
   "language": "python",
   "name": "python3"
  },
  "language_info": {
   "codemirror_mode": {
    "name": "ipython",
    "version": 3
   },
   "file_extension": ".py",
   "mimetype": "text/x-python",
   "name": "python",
   "nbconvert_exporter": "python",
   "pygments_lexer": "ipython3",
   "version": "3.6.5"
  }
 },
 "nbformat": 4,
 "nbformat_minor": 2
}
