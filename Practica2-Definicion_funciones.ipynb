{
 "cells": [
  {
   "cell_type": "code",
   "execution_count": 1,
   "metadata": {},
   "outputs": [],
   "source": [
    "## Definir función de suma indexada\n",
    "def w_sum(a,b):\n",
    "    assert(len(a) == len(b))\n",
    "    output = 0\n",
    "    for i in range(3):\n",
    "        output += (a[i] * b[i]) \n",
    "    return output"
   ]
  },
  {
   "cell_type": "code",
   "execution_count": 2,
   "metadata": {},
   "outputs": [],
   "source": [
    "## Definir variables de entrada\n",
    "weights=[0.1, 0.2, 0]\n",
    "toes= [8.5, 9.5, 9.9, 9.0]\n",
    "wlrec= [0.65, 0.8, 0.8, 0.9]\n",
    "nfans= [1.2, 1.3, 0.5, 1.0]\n",
    "input= [toes[0], wlrec[0], nfans[0]]"
   ]
  },
  {
   "cell_type": "code",
   "execution_count": 3,
   "metadata": {},
   "outputs": [],
   "source": [
    "## Operación de suma a través de función\n",
    "P = w_sum(input, weights)"
   ]
  },
  {
   "cell_type": "code",
   "execution_count": 4,
   "metadata": {},
   "outputs": [
    {
     "name": "stdout",
     "output_type": "stream",
     "text": [
      "a= [8.5, 0.65, 1.2]\n",
      "b= [0.1, 0.2, 0]\n",
      "output= 0.9800000000000001\n"
     ]
    }
   ],
   "source": [
    "## Impresión de variables y resultado\n",
    "print(\"a= \"+str(input))\n",
    "print(\"b= \"+str(weights))\n",
    "print(\"output= \"+str(P))"
   ]
  }
 ],
 "metadata": {
  "kernelspec": {
   "display_name": "Python 3",
   "language": "python",
   "name": "python3"
  },
  "language_info": {
   "codemirror_mode": {
    "name": "ipython",
    "version": 3
   },
   "file_extension": ".py",
   "mimetype": "text/x-python",
   "name": "python",
   "nbconvert_exporter": "python",
   "pygments_lexer": "ipython3",
   "version": "3.6.5"
  }
 },
 "nbformat": 4,
 "nbformat_minor": 2
}
